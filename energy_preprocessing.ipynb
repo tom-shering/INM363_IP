{
 "cells": [
  {
   "cell_type": "markdown",
   "id": "5afb1289-d1ed-4e2d-9f47-5d812b2ca219",
   "metadata": {},
   "source": [
    "<h1>Energy: Preprocessing</h1>"
   ]
  },
  {
   "cell_type": "code",
   "execution_count": 1,
   "id": "7787886d-dd43-4f6b-b6cf-59e84595e409",
   "metadata": {},
   "outputs": [],
   "source": [
    "import numpy as np\n",
    "import pandas as pd"
   ]
  },
  {
   "cell_type": "markdown",
   "id": "3da31065-367a-4153-96b2-03bf92a3323f",
   "metadata": {},
   "source": [
    "<h2>Data Exploration - Energy Dataset</h2>"
   ]
  },
  {
   "cell_type": "code",
   "execution_count": 2,
   "id": "5f7f2def-a647-495e-aa26-d85486f1dabc",
   "metadata": {},
   "outputs": [
    {
     "name": "stdout",
     "output_type": "stream",
     "text": [
      "                        time  generation biomass  \\\n",
      "0  2015-01-01 00:00:00+01:00               447.0   \n",
      "1  2015-01-01 01:00:00+01:00               449.0   \n",
      "2  2015-01-01 02:00:00+01:00               448.0   \n",
      "3  2015-01-01 03:00:00+01:00               438.0   \n",
      "4  2015-01-01 04:00:00+01:00               428.0   \n",
      "\n",
      "   generation fossil brown coal/lignite  generation fossil coal-derived gas  \\\n",
      "0                                 329.0                                 0.0   \n",
      "1                                 328.0                                 0.0   \n",
      "2                                 323.0                                 0.0   \n",
      "3                                 254.0                                 0.0   \n",
      "4                                 187.0                                 0.0   \n",
      "\n",
      "   generation fossil gas  generation fossil hard coal  generation fossil oil  \\\n",
      "0                 4844.0                       4821.0                  162.0   \n",
      "1                 5196.0                       4755.0                  158.0   \n",
      "2                 4857.0                       4581.0                  157.0   \n",
      "3                 4314.0                       4131.0                  160.0   \n",
      "4                 4130.0                       3840.0                  156.0   \n",
      "\n",
      "   generation fossil oil shale  generation fossil peat  generation geothermal  \\\n",
      "0                          0.0                     0.0                    0.0   \n",
      "1                          0.0                     0.0                    0.0   \n",
      "2                          0.0                     0.0                    0.0   \n",
      "3                          0.0                     0.0                    0.0   \n",
      "4                          0.0                     0.0                    0.0   \n",
      "\n",
      "   ...  generation waste  generation wind offshore  generation wind onshore  \\\n",
      "0  ...             196.0                       0.0                   6378.0   \n",
      "1  ...             195.0                       0.0                   5890.0   \n",
      "2  ...             196.0                       0.0                   5461.0   \n",
      "3  ...             191.0                       0.0                   5238.0   \n",
      "4  ...             189.0                       0.0                   4935.0   \n",
      "\n",
      "   forecast solar day ahead  forecast wind offshore eday ahead  \\\n",
      "0                      17.0                                NaN   \n",
      "1                      16.0                                NaN   \n",
      "2                       8.0                                NaN   \n",
      "3                       2.0                                NaN   \n",
      "4                       9.0                                NaN   \n",
      "\n",
      "   forecast wind onshore day ahead  total load forecast  total load actual  \\\n",
      "0                           6436.0              26118.0            25385.0   \n",
      "1                           5856.0              24934.0            24382.0   \n",
      "2                           5454.0              23515.0            22734.0   \n",
      "3                           5151.0              22642.0            21286.0   \n",
      "4                           4861.0              21785.0            20264.0   \n",
      "\n",
      "   price day ahead  price actual  \n",
      "0            50.10         65.41  \n",
      "1            48.10         64.92  \n",
      "2            47.33         64.48  \n",
      "3            42.27         59.32  \n",
      "4            38.41         56.04  \n",
      "\n",
      "[5 rows x 29 columns]\n",
      "\n",
      "Dataframe shape: (35064, 29)\n"
     ]
    }
   ],
   "source": [
    "df_raw = pd.read_csv(\"energy_dataset.csv\")\n",
    "\n",
    "print(df_raw.head())\n",
    "\n",
    "print(f\"\\nDataframe shape: {df_raw.shape}\")"
   ]
  },
  {
   "cell_type": "markdown",
   "id": "e61ad2c8-6f96-430b-bb36-73380b42d6b8",
   "metadata": {},
   "source": [
    "<h3>Checking and Removing Data Redundancy</h3>"
   ]
  },
  {
   "cell_type": "code",
   "execution_count": 3,
   "id": "1cc9e31e-fd0e-48ce-8923-93e2f4b65542",
   "metadata": {},
   "outputs": [
    {
     "name": "stdout",
     "output_type": "stream",
     "text": [
      "                                    Column Name  Non Zero/Null Count\n",
      "0                                          time                35064\n",
      "1                            generation biomass                35041\n",
      "2          generation fossil brown coal/lignite                24529\n",
      "3            generation fossil coal-derived gas                    0\n",
      "4                         generation fossil gas                35045\n",
      "5                   generation fossil hard coal                35043\n",
      "6                         generation fossil oil                35042\n",
      "7                   generation fossil oil shale                    0\n",
      "8                        generation fossil peat                    0\n",
      "9                         generation geothermal                    0\n",
      "10   generation hydro pumped storage aggregated                    0\n",
      "11  generation hydro pumped storage consumption                22438\n",
      "12   generation hydro run-of-river and poundage                35042\n",
      "13             generation hydro water reservoir                35043\n",
      "14                            generation marine                    0\n",
      "15                           generation nuclear                35044\n",
      "16                             generation other                35042\n",
      "17                   generation other renewable                35043\n",
      "18                             generation solar                35043\n",
      "19                             generation waste                35042\n",
      "20                     generation wind offshore                    0\n",
      "21                      generation wind onshore                35043\n",
      "22                     forecast solar day ahead                34525\n",
      "23            forecast wind offshore eday ahead                    0\n",
      "24              forecast wind onshore day ahead                35064\n",
      "25                          total load forecast                35064\n",
      "26                            total load actual                35028\n",
      "27                              price day ahead                35064\n",
      "28                                 price actual                35064\n",
      "\n",
      "Columns with no useful data: ['generation fossil coal-derived gas', 'generation fossil oil shale', 'generation fossil peat', 'generation geothermal', 'generation hydro pumped storage aggregated', 'generation marine', 'generation wind offshore', 'forecast wind offshore eday ahead']\n",
      "\n",
      "Number of non-useful columns: 8.\n"
     ]
    }
   ],
   "source": [
    "# Counting the number of values in each column that are not 0 or null:\n",
    "non_zero_or_null_count = [(col, df_raw[df_raw[col].notnull() & df_raw[col].ne(0)].shape[0]) for col in df_raw.columns]\n",
    "\n",
    "df_non_zero_null_count = pd.DataFrame(non_zero_or_null_count, columns=[\"Column Name\", \"Non Zero/Null Count\"])\n",
    "\n",
    "print(df_non_zero_null_count)\n",
    "\n",
    "#It can be seen that 8 columns contain no useful data. \n",
    "\n",
    "unnecessary_columns = df_non_zero_null_count[df_non_zero_null_count[\"Non Zero/Null Count\"] == 0][\"Column Name\"].tolist()\n",
    "\n",
    "print(f\"\\nColumns with no useful data: {unnecessary_columns}\")\n",
    "print(f\"\\nNumber of non-useful columns: {len(unnecessary_columns)}.\")"
   ]
  },
  {
   "cell_type": "code",
   "execution_count": 4,
   "id": "868c9199-6c6d-4d9e-a941-bcc698809ebe",
   "metadata": {},
   "outputs": [
    {
     "name": "stdout",
     "output_type": "stream",
     "text": [
      "Null values in each column: \n",
      "\n",
      "time                                               0\n",
      "generation biomass                                19\n",
      "generation fossil brown coal/lignite              18\n",
      "generation fossil coal-derived gas                18\n",
      "generation fossil gas                             18\n",
      "generation fossil hard coal                       18\n",
      "generation fossil oil                             19\n",
      "generation fossil oil shale                       18\n",
      "generation fossil peat                            18\n",
      "generation geothermal                             18\n",
      "generation hydro pumped storage aggregated     35064\n",
      "generation hydro pumped storage consumption       19\n",
      "generation hydro run-of-river and poundage        19\n",
      "generation hydro water reservoir                  18\n",
      "generation marine                                 19\n",
      "generation nuclear                                17\n",
      "generation other                                  18\n",
      "generation other renewable                        18\n",
      "generation solar                                  18\n",
      "generation waste                                  19\n",
      "generation wind offshore                          18\n",
      "generation wind onshore                           18\n",
      "forecast solar day ahead                           0\n",
      "forecast wind offshore eday ahead              35064\n",
      "forecast wind onshore day ahead                    0\n",
      "total load forecast                                0\n",
      "total load actual                                 36\n",
      "price day ahead                                    0\n",
      "price actual                                       0\n",
      "dtype: int64\n"
     ]
    }
   ],
   "source": [
    "null_count = df_raw.isnull().sum()\n",
    "\n",
    "print(\"Null values in each column: \\n\")\n",
    "print(null_count)\n",
    "\n",
    "#The number of null values in each column is checked here and correlates to the number of non-zero\n",
    "# ... values found in the columns that contain no useful data above. "
   ]
  },
  {
   "cell_type": "markdown",
   "id": "088b5db2-95b1-4153-8446-4da021d64600",
   "metadata": {},
   "source": [
    "<h3>Removing unnecessary columns</h3>"
   ]
  },
  {
   "cell_type": "code",
   "execution_count": 5,
   "id": "c1dfe37e-cbee-4edb-8bb4-7a67fc131472",
   "metadata": {},
   "outputs": [
    {
     "name": "stdout",
     "output_type": "stream",
     "text": [
      "                        time  generation biomass  \\\n",
      "0  2015-01-01 00:00:00+01:00               447.0   \n",
      "1  2015-01-01 01:00:00+01:00               449.0   \n",
      "2  2015-01-01 02:00:00+01:00               448.0   \n",
      "3  2015-01-01 03:00:00+01:00               438.0   \n",
      "4  2015-01-01 04:00:00+01:00               428.0   \n",
      "\n",
      "   generation fossil brown coal/lignite  generation fossil gas  \\\n",
      "0                                 329.0                 4844.0   \n",
      "1                                 328.0                 5196.0   \n",
      "2                                 323.0                 4857.0   \n",
      "3                                 254.0                 4314.0   \n",
      "4                                 187.0                 4130.0   \n",
      "\n",
      "   generation fossil hard coal  generation fossil oil  \\\n",
      "0                       4821.0                  162.0   \n",
      "1                       4755.0                  158.0   \n",
      "2                       4581.0                  157.0   \n",
      "3                       4131.0                  160.0   \n",
      "4                       3840.0                  156.0   \n",
      "\n",
      "   generation hydro pumped storage consumption  \\\n",
      "0                                        863.0   \n",
      "1                                        920.0   \n",
      "2                                       1164.0   \n",
      "3                                       1503.0   \n",
      "4                                       1826.0   \n",
      "\n",
      "   generation hydro run-of-river and poundage  \\\n",
      "0                                      1051.0   \n",
      "1                                      1009.0   \n",
      "2                                       973.0   \n",
      "3                                       949.0   \n",
      "4                                       953.0   \n",
      "\n",
      "   generation hydro water reservoir  generation nuclear  ...  \\\n",
      "0                            1899.0              7096.0  ...   \n",
      "1                            1658.0              7096.0  ...   \n",
      "2                            1371.0              7099.0  ...   \n",
      "3                             779.0              7098.0  ...   \n",
      "4                             720.0              7097.0  ...   \n",
      "\n",
      "   generation other renewable  generation solar  generation waste  \\\n",
      "0                        73.0              49.0             196.0   \n",
      "1                        71.0              50.0             195.0   \n",
      "2                        73.0              50.0             196.0   \n",
      "3                        75.0              50.0             191.0   \n",
      "4                        74.0              42.0             189.0   \n",
      "\n",
      "   generation wind onshore  forecast solar day ahead  \\\n",
      "0                   6378.0                      17.0   \n",
      "1                   5890.0                      16.0   \n",
      "2                   5461.0                       8.0   \n",
      "3                   5238.0                       2.0   \n",
      "4                   4935.0                       9.0   \n",
      "\n",
      "   forecast wind onshore day ahead  total load forecast  total load actual  \\\n",
      "0                           6436.0              26118.0            25385.0   \n",
      "1                           5856.0              24934.0            24382.0   \n",
      "2                           5454.0              23515.0            22734.0   \n",
      "3                           5151.0              22642.0            21286.0   \n",
      "4                           4861.0              21785.0            20264.0   \n",
      "\n",
      "   price day ahead  price actual  \n",
      "0            50.10         65.41  \n",
      "1            48.10         64.92  \n",
      "2            47.33         64.48  \n",
      "3            42.27         59.32  \n",
      "4            38.41         56.04  \n",
      "\n",
      "[5 rows x 21 columns]\n"
     ]
    }
   ],
   "source": [
    "df_raw2 = df_raw.drop(unnecessary_columns, axis=1)\n",
    "\n",
    "print(df_raw2.head())"
   ]
  },
  {
   "cell_type": "markdown",
   "id": "a81133fc-e5b2-4f6d-8aee-ce12506403a5",
   "metadata": {},
   "source": [
    "<h3>Interpolating null values</h3>"
   ]
  },
  {
   "cell_type": "code",
   "execution_count": 6,
   "id": "474034b4-df7c-48f1-bdf5-be105a8a76ba",
   "metadata": {},
   "outputs": [
    {
     "name": "stdout",
     "output_type": "stream",
     "text": [
      "Null values in each column: \n",
      "\n",
      "time                                           0\n",
      "generation biomass                             0\n",
      "generation fossil brown coal/lignite           0\n",
      "generation fossil gas                          0\n",
      "generation fossil hard coal                    0\n",
      "generation fossil oil                          0\n",
      "generation hydro pumped storage consumption    0\n",
      "generation hydro run-of-river and poundage     0\n",
      "generation hydro water reservoir               0\n",
      "generation nuclear                             0\n",
      "generation other                               0\n",
      "generation other renewable                     0\n",
      "generation solar                               0\n",
      "generation waste                               0\n",
      "generation wind onshore                        0\n",
      "forecast solar day ahead                       0\n",
      "forecast wind onshore day ahead                0\n",
      "total load forecast                            0\n",
      "total load actual                              0\n",
      "price day ahead                                0\n",
      "price actual                                   0\n",
      "dtype: int64\n"
     ]
    }
   ],
   "source": [
    "# Linear interpolation is used as an approximation. Since the number of null values is no more than ~0.1%\n",
    "# in any column, this seems appropriate. \n",
    "df_interpolated = df_raw2.interpolate(method=\"linear\", limit_direction=\"both\")\n",
    "df_rounded = df_interpolated.round(1)\n",
    "\n",
    "null_count_interpolated = df_rounded.isnull().sum()\n",
    "\n",
    "print(\"Null values in each column: \\n\")\n",
    "print(null_count_interpolated)"
   ]
  },
  {
   "cell_type": "markdown",
   "id": "43e16404-2bf2-4311-9810-1ec0897c0159",
   "metadata": {},
   "source": [
    "<h3>Checking Duplicate Rows</h3>"
   ]
  },
  {
   "cell_type": "code",
   "execution_count": 7,
   "id": "81a86d91-f2f8-40ef-921b-b6ec02cad62b",
   "metadata": {},
   "outputs": [
    {
     "name": "stdout",
     "output_type": "stream",
     "text": [
      "Number of duplicate rows =  0\n"
     ]
    }
   ],
   "source": [
    "duplicate_rows = df_rounded.duplicated()\n",
    "print(f\"Number of duplicate rows =  {duplicate_rows.sum()}\")"
   ]
  },
  {
   "cell_type": "markdown",
   "id": "728fb689-916a-4e14-9209-0f6b1ee20fd2",
   "metadata": {},
   "source": [
    "<h3>Exporting Preprocessed Dataset</h3>"
   ]
  },
  {
   "cell_type": "code",
   "execution_count": 8,
   "id": "6817245e-23d0-4f63-b473-742b25b96267",
   "metadata": {},
   "outputs": [],
   "source": [
    "# mv == multivariable\n",
    "energy_df_mv = df_rounded[[\"time\", \"total load actual\", \"generation solar\", \"generation wind onshore\" ]]\n",
    "\n",
    "energy_df_mv.to_csv(\"energy_mv.csv\", index=False)"
   ]
  }
 ],
 "metadata": {
  "kernelspec": {
   "display_name": "Python 3 (ipykernel)",
   "language": "python",
   "name": "python3"
  },
  "language_info": {
   "codemirror_mode": {
    "name": "ipython",
    "version": 3
   },
   "file_extension": ".py",
   "mimetype": "text/x-python",
   "name": "python",
   "nbconvert_exporter": "python",
   "pygments_lexer": "ipython3",
   "version": "3.9.5"
  }
 },
 "nbformat": 4,
 "nbformat_minor": 5
}
