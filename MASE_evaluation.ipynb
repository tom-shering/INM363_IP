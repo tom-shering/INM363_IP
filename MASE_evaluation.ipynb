{
 "cells": [
  {
   "cell_type": "markdown",
   "id": "f5213d79-7d22-45d1-8f38-0e1e75e782c8",
   "metadata": {},
   "source": [
    "<h2>ENTSO-E Forecast MASE Calculations</h2>"
   ]
  },
  {
   "cell_type": "code",
   "execution_count": 1,
   "id": "3f09054d-53a9-4d1d-8fe7-70b29f455872",
   "metadata": {},
   "outputs": [],
   "source": [
    "import numpy as np\n",
    "import pandas as pd\n",
    "from sklearn.metrics import mean_absolute_error\n",
    "from data_utils import calculate_mase\n",
    "\n",
    "\n",
    "evaluation_df = pd.read_csv(\"energy_MASE.csv\")\n",
    "\n",
    "series_columns = [\"time\", \"total load actual\", \"generation solar\", \"generation wind onshore\", \"total load forecast\", \"forecast solar day ahead\", \"forecast wind onshore day ahead\"]"
   ]
  },
  {
   "cell_type": "code",
   "execution_count": 3,
   "id": "c1f5cf37-b25c-4134-9ef5-5e1ca628d51c",
   "metadata": {},
   "outputs": [
    {
     "name": "stdout",
     "output_type": "stream",
     "text": [
      "Load MASE value: 0.251\n",
      "Solar MASE value: 0.455\n",
      "Wind MASE value: 1.326\n"
     ]
    }
   ],
   "source": [
    "# Since my model was tested on the final 25% of data. \n",
    "test_length = len(evaluation_df) // 4\n",
    "evaluation_df = evaluation_df[-test_length:]\n",
    "\n",
    "load_mase_value = calculate_mase(evaluation_df[\"total load actual\"], evaluation_df[\"total load forecast\"])\n",
    "print(f\"Load MASE value: {load_mase_value:.3f}\")\n",
    "\n",
    "solar_mase_value = calculate_mase(evaluation_df[\"generation solar\"], evaluation_df[\"forecast solar day ahead\"])\n",
    "print(f\"Solar MASE value: {solar_mase_value:.3f}\")\n",
    "\n",
    "wind_mase_value = calculate_mase(evaluation_df[\"generation wind onshore\"], evaluation_df[\"forecast wind onshore day ahead\"])\n",
    "print(f\"Wind MASE value: {wind_mase_value:.3f}\")"
   ]
  }
 ],
 "metadata": {
  "kernelspec": {
   "display_name": "Python 3 (ipykernel)",
   "language": "python",
   "name": "python3"
  },
  "language_info": {
   "codemirror_mode": {
    "name": "ipython",
    "version": 3
   },
   "file_extension": ".py",
   "mimetype": "text/x-python",
   "name": "python",
   "nbconvert_exporter": "python",
   "pygments_lexer": "ipython3",
   "version": "3.9.5"
  }
 },
 "nbformat": 4,
 "nbformat_minor": 5
}
